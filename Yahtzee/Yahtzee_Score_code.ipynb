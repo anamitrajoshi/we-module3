{
  "nbformat": 4,
  "nbformat_minor": 0,
  "metadata": {
    "colab": {
      "provenance": []
    },
    "kernelspec": {
      "name": "python3",
      "display_name": "Python 3"
    },
    "language_info": {
      "name": "python"
    }
  },
  "cells": [
    {
      "cell_type": "code",
      "execution_count": null,
      "metadata": {
        "id": "AgHJHwor-Jbo"
      },
      "outputs": [],
      "source": [
        "from collections import Counter\n",
        "\n",
        "def score(dice: list[int]) -> dict[str, int]:\n",
        "    # Count occurrences of each number on the dice\n",
        "    counts = Counter(dice)\n",
        "\n",
        "    # Initialize a dictionary to store scores for each category\n",
        "    scores = {\n",
        "        \"Ones\": counts.get(1, 0) * 1,\n",
        "        \"Twos\": counts.get(2, 0) * 2,\n",
        "        \"Threes\": counts.get(3, 0) * 3,\n",
        "        \"Fours\": counts.get(4, 0) * 4,\n",
        "        \"Fives\": counts.get(5, 0) * 5,\n",
        "        \"Sixes\": counts.get(6, 0) * 6,\n",
        "        \"Three of a Kind\": sum(dice) if any(count >= 3 for count in counts.values()) else 0,\n",
        "        \"Four of a Kind\": sum(dice) if any(count >= 4 for count in counts.values()) else 0,\n",
        "        \"Full House\": 25 if set(counts.values()) == {2, 3} else 0,\n",
        "        \"Small Straight\": 30 if any(\n",
        "            sorted(dice[i:i+4]) == [1, 2, 3, 4] or\n",
        "            sorted(dice[i:i+4]) == [2, 3, 4, 5] or\n",
        "            sorted(dice[i:i+4]) == [3, 4, 5, 6]\n",
        "            for i in range(len(dice) - 3)\n",
        "        ) else 0,\n",
        "        \"Large Straight\": 40 if sorted(dice) in [[1, 2, 3, 4, 5], [2, 3, 4, 5, 6]] else 0,\n",
        "        \"Yahtzee\": 50 if any(count == 5 for count in counts.values()) else 0,\n",
        "        \"Chance\": sum(dice),\n",
        "    }\n",
        "\n",
        "    return scores\n",
        "\n"
      ]
    },
    {
      "cell_type": "code",
      "source": [
        "print(score([1, 2, 3, 4, 5]))\n",
        "print(score([1, 1, 1, 2, 3]))\n",
        "print(score([2, 2, 3, 3, 3]))\n",
        "print(score([1, 2, 3, 4, 5]))"
      ],
      "metadata": {
        "colab": {
          "base_uri": "https://localhost:8080/"
        },
        "id": "KZBonvJ_AGbq",
        "outputId": "88e56591-38b5-4523-c978-213ed1298ea6"
      },
      "execution_count": null,
      "outputs": [
        {
          "output_type": "stream",
          "name": "stdout",
          "text": [
            "{'Ones': 1, 'Twos': 2, 'Threes': 3, 'Fours': 4, 'Fives': 5, 'Sixes': 0, 'Three of a Kind': 0, 'Four of a Kind': 0, 'Full House': 0, 'Small Straight': 30, 'Large Straight': 40, 'Yahtzee': 0, 'Chance': 15}\n",
            "{'Ones': 3, 'Twos': 2, 'Threes': 3, 'Fours': 0, 'Fives': 0, 'Sixes': 0, 'Three of a Kind': 8, 'Four of a Kind': 0, 'Full House': 0, 'Small Straight': 0, 'Large Straight': 0, 'Yahtzee': 0, 'Chance': 8}\n",
            "{'Ones': 0, 'Twos': 4, 'Threes': 9, 'Fours': 0, 'Fives': 0, 'Sixes': 0, 'Three of a Kind': 13, 'Four of a Kind': 0, 'Full House': 25, 'Small Straight': 0, 'Large Straight': 0, 'Yahtzee': 0, 'Chance': 13}\n",
            "{'Ones': 1, 'Twos': 2, 'Threes': 3, 'Fours': 4, 'Fives': 5, 'Sixes': 0, 'Three of a Kind': 0, 'Four of a Kind': 0, 'Full House': 0, 'Small Straight': 30, 'Large Straight': 40, 'Yahtzee': 0, 'Chance': 15}\n"
          ]
        }
      ]
    },
    {
      "cell_type": "code",
      "source": [],
      "metadata": {
        "id": "WkEfsNmfAHT9"
      },
      "execution_count": null,
      "outputs": []
    }
  ]
}