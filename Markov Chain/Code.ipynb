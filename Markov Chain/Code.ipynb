{
  "nbformat": 4,
  "nbformat_minor": 0,
  "metadata": {
    "colab": {
      "provenance": []
    },
    "kernelspec": {
      "name": "python3",
      "display_name": "Python 3"
    },
    "language_info": {
      "name": "python"
    }
  },
  "cells": [
    {
      "cell_type": "code",
      "source": [
        "import random\n",
        "from collections import defaultdict\n",
        "\n",
        "def generate(filename: str, start_words: list[str], chain_length: int, num_generated: int) -> str:\n",
        "    # Read text from the file\n",
        "    with open(filename, 'r', encoding='utf-8') as file:\n",
        "        text = file.read()\n",
        "\n",
        "    # Preprocess the text and split it into words\n",
        "    words = text.split()\n",
        "\n",
        "    # Build the Markov chain\n",
        "    markov_chain = defaultdict(list)\n",
        "    for i in range(len(words) - chain_length):\n",
        "        key = tuple(words[i:i + chain_length])\n",
        "        value = words[i + chain_length]\n",
        "        markov_chain[key].append(value)\n",
        "\n",
        "    # Initialize the generated sentence with the start words\n",
        "    current_words = start_words.copy()\n",
        "    generated_sentence = ' '.join(current_words)\n",
        "\n",
        "    # Generate the rest of the sentence\n",
        "    for _ in range(num_generated):\n",
        "        # Get the possible next words based on the current words\n",
        "        next_word_options = markov_chain[tuple(current_words)]\n",
        "\n",
        "        # Check if there are any possible next words\n",
        "        if not next_word_options:\n",
        "            break\n",
        "\n",
        "        # Choose a random next word\n",
        "        next_word = random.choice(next_word_options)\n",
        "\n",
        "        # Append the next word to the generated sentence\n",
        "        generated_sentence += ' ' + next_word\n",
        "\n",
        "        # Update the current words by removing the first word and adding the next word\n",
        "        current_words = current_words[1:] + [next_word]\n",
        "\n",
        "    return generated_sentence\n",
        "\n",
        "# Example usage:\n",
        "filename = '/content/WarAndPeace (1).txt'\n",
        "start_words = ['This']\n",
        "chain_length = 1  # Adjust this as needed\n",
        "num_generated = 20  # Adjust this as needed\n",
        "\n",
        "generated_sentence = generate(filename, start_words, chain_length, num_generated)\n",
        "print(generated_sentence)\n"
      ],
      "metadata": {
        "colab": {
          "base_uri": "https://localhost:8080/"
        },
        "id": "RcIx_RIH3J_E",
        "outputId": "967f326a-eb59-4e54-861f-875b02874f3f"
      },
      "execution_count": null,
      "outputs": [
        {
          "output_type": "stream",
          "name": "stdout",
          "text": [
            "This horse of his pockets had not express the same expression as many historical science gives us, strengthen the hunt, sent\n"
          ]
        }
      ]
    },
    {
      "cell_type": "code",
      "source": [
        "from collections import defaultdict\n",
        "\n",
        "def build_markov_chain(text: str, chain_length: int) -> dict:\n",
        "    # Preprocess the text and split it into words\n",
        "    words = text.split()\n",
        "\n",
        "    # Build the Markov chain\n",
        "    markov_chain = defaultdict(list)\n",
        "    for i in range(len(words) - chain_length):\n",
        "        key = tuple(words[i:i + chain_length])\n",
        "        value = words[i + chain_length]\n",
        "        markov_chain[key].append(value)\n",
        "\n",
        "    return markov_chain\n",
        "\n",
        "def display_markov_chain(markov_chain: dict):\n",
        "    for key, value in markov_chain.items():\n",
        "        print(f\"{key} -> {value}\")\n",
        "\n",
        "# Example usage:\n",
        "filename = '/content/test.txt'\n",
        "chain_length = 1  # Adjust this as needed\n",
        "\n",
        "with open(filename, 'r', encoding='utf-8') as file:\n",
        "    text = file.read()\n",
        "\n",
        "markov_chain = build_markov_chain(text, chain_length)\n",
        "display_markov_chain(markov_chain)\n"
      ],
      "metadata": {
        "colab": {
          "base_uri": "https://localhost:8080/"
        },
        "id": "wm4KIEyU40ZN",
        "outputId": "4a199a07-49d9-4465-ec73-e07e89a4e5a2"
      },
      "execution_count": null,
      "outputs": [
        {
          "output_type": "stream",
          "name": "stdout",
          "text": [
            "('This',) -> ['is']\n",
            "('is',) -> ['a', 'sin.']\n",
            "('a',) -> ['cat.']\n",
            "('cat.',) -> ['A']\n",
            "('A',) -> ['cat']\n",
            "('cat',) -> ['ate']\n",
            "('ate',) -> ['the']\n",
            "('the',) -> ['hat.']\n",
            "('hat.',) -> ['Gluttony']\n",
            "('Gluttony',) -> ['is']\n",
            "('sin.',) -> ['I']\n",
            "('I',) -> ['like']\n",
            "('like',) -> ['to']\n",
            "('to',) -> ['dance.']\n"
          ]
        }
      ]
    },
    {
      "cell_type": "code",
      "source": [],
      "metadata": {
        "id": "uZ_bYSu8623j"
      },
      "execution_count": null,
      "outputs": []
    }
  ]
}