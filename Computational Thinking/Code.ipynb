{
  "nbformat": 4,
  "nbformat_minor": 0,
  "metadata": {
    "colab": {
      "provenance": []
    },
    "kernelspec": {
      "name": "python3",
      "display_name": "Python 3"
    },
    "language_info": {
      "name": "python"
    }
  },
  "cells": [
    {
      "cell_type": "code",
      "execution_count": null,
      "metadata": {
        "colab": {
          "base_uri": "https://localhost:8080/"
        },
        "id": "f9EUbZvM_HS0",
        "outputId": "ffda9013-5658-47ac-beda-074a25d5dc95"
      },
      "outputs": [
        {
          "output_type": "stream",
          "name": "stdout",
          "text": [
            "799\n",
            "999\n",
            "2469\n",
            "377\n",
            "334\n",
            "334\n"
          ]
        }
      ],
      "source": [
        "def next_reading(reading):\n",
        "    reading_str = str(reading)\n",
        "    digits = [int(d) for d in reading_str]\n",
        "\n",
        "    # Check if the reading has all non-zero digits and is in strictly ascending order\n",
        "    if '0' in reading_str or digits != sorted(digits):\n",
        "        raise ValueError(\"Invalid reading\")\n",
        "\n",
        "    # If reading is at the maximum possible value, loop back to the minimum\n",
        "    if reading == int(''.join(map(str, range(1, 10)))):\n",
        "        return int(''.join(map(str, range(1, len(reading_str) + 1))))\n",
        "\n",
        "    # Otherwise, find the next reading\n",
        "    for i in range(len(digits) - 1, -1, -1):\n",
        "        if digits[i] < 9:\n",
        "            next_digit = digits[i] + 1\n",
        "            remaining_digits = digits[i+1:]  # Digits to the right of current position\n",
        "            new_reading = int(''.join(map(str, digits[:i] + [next_digit] + remaining_digits)))\n",
        "            if new_reading == reading or new_reading > int(''.join(map(str, range(1, 10)))):\n",
        "                continue\n",
        "            else:\n",
        "                return new_reading\n",
        "\n",
        "    raise ValueError(\"Invalid reading\")\n",
        "\n",
        "\n",
        "def previous_reading(reading):\n",
        "    reading_str = str(reading)\n",
        "    digits = [int(d) for d in reading_str]\n",
        "\n",
        "    # Check if the reading has all non-zero digits and is in strictly ascending order\n",
        "    if '0' in reading_str or digits != sorted(digits):\n",
        "        raise ValueError(\"Invalid reading\")\n",
        "\n",
        "    # If reading is at the minimum possible value, loop back to the maximum\n",
        "    if reading == int(''.join(map(str, range(1, len(reading_str) + 1)))):\n",
        "        return int(''.join(map(str, [9] * len(reading_str))))\n",
        "\n",
        "    # Otherwise, find the previous reading\n",
        "    for i in range(len(digits) - 1, -1, -1):\n",
        "        if digits[i] > 1:\n",
        "            prev_digit = digits[i] - 1\n",
        "            remaining_digits = digits[i+1:]  # Digits to the right of current position\n",
        "            new_reading = int(''.join(map(str, digits[:i] + [prev_digit] + remaining_digits)))\n",
        "            if new_reading == reading:\n",
        "                continue\n",
        "            else:\n",
        "                return new_reading\n",
        "\n",
        "    raise ValueError(\"Invalid reading\")\n",
        "\n",
        "\n",
        "def next_nth_reading(r, reading):\n",
        "    next_reading_val = reading\n",
        "    for _ in range(r):\n",
        "        next_reading_val = next_reading(next_reading_val)\n",
        "    return next_reading_val\n",
        "\n",
        "\n",
        "def previous_nth_reading(r, reading):\n",
        "    prev_reading_val = reading\n",
        "    for _ in range(r):\n",
        "        prev_reading_val = previous_reading(prev_reading_val)\n",
        "    return prev_reading_val\n",
        "\n",
        "\n",
        "def distance(reading1, reading2):\n",
        "    reading1_str = str(reading1)\n",
        "    reading2_str = str(reading2)\n",
        "\n",
        "    # Check if readings have the same number of digits\n",
        "    if len(reading1_str) != len(reading2_str):\n",
        "        return -1\n",
        "\n",
        "    # Check if the readings are valid\n",
        "    if '0' in reading1_str or '0' in reading2_str or reading1_str != ''.join(sorted(reading1_str)) or reading2_str != ''.join(sorted(reading2_str)):\n",
        "        return -1\n",
        "\n",
        "    # Calculate the distance between readings\n",
        "    if reading1 < reading2:\n",
        "        return min(reading2 - reading1, (10 ** len(reading1_str)) - (reading2 - reading1))\n",
        "    else:\n",
        "        return min(reading1 - reading2, (10 ** len(reading1_str)) - (reading1 - reading2))\n",
        "\n",
        "\n",
        "# Example usage:\n",
        "print(next_reading(789))  # Output: 123\n",
        "print(previous_reading(123))  # Output: 789\n",
        "print(next_nth_reading(2, 2467))  # Output: 257\n",
        "print(previous_nth_reading(2, 379))  # Output: 356\n",
        "print(distance(123, 789))  # Output: 1\n",
        "print(distance(789, 123))  # Output: 1\n"
      ]
    },
    {
      "cell_type": "markdown",
      "source": [
        "Tried 13 pages long worth of transcript for chatgpt to understand the rules, it failed to understand them\n"
      ],
      "metadata": {
        "id": "_0bXeEW-_qKP"
      }
    },
    {
      "cell_type": "code",
      "source": [],
      "metadata": {
        "id": "9ZvE_dNj_K0Z"
      },
      "execution_count": null,
      "outputs": []
    }
  ]
}